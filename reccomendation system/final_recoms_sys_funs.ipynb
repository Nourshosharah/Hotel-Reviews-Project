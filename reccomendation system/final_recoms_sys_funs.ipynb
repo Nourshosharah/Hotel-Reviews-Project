{
 "cells": [
  {
   "cell_type": "code",
   "execution_count": 38,
   "metadata": {},
   "outputs": [],
   "source": [
    "import numpy as np\n",
    "import pandas as pd"
   ]
  },
  {
   "cell_type": "code",
   "execution_count": 39,
   "metadata": {},
   "outputs": [
    {
     "data": {
      "text/html": [
       "<div>\n",
       "<style scoped>\n",
       "    .dataframe tbody tr th:only-of-type {\n",
       "        vertical-align: middle;\n",
       "    }\n",
       "\n",
       "    .dataframe tbody tr th {\n",
       "        vertical-align: top;\n",
       "    }\n",
       "\n",
       "    .dataframe thead th {\n",
       "        text-align: right;\n",
       "    }\n",
       "</style>\n",
       "<table border=\"1\" class=\"dataframe\">\n",
       "  <thead>\n",
       "    <tr style=\"text-align: right;\">\n",
       "      <th></th>\n",
       "      <th>Hotel_Address</th>\n",
       "      <th>Additional_Number_of_Scoring</th>\n",
       "      <th>Review_Date</th>\n",
       "      <th>Average_Score</th>\n",
       "      <th>Hotel_Name</th>\n",
       "      <th>Reviewer_Nationality</th>\n",
       "      <th>Negative_Review</th>\n",
       "      <th>Review_Total_Negative_Word_Counts</th>\n",
       "      <th>Total_Number_of_Reviews</th>\n",
       "      <th>Positive_Review</th>\n",
       "      <th>...</th>\n",
       "      <th>submit</th>\n",
       "      <th>With a pet</th>\n",
       "      <th>extra_room_type</th>\n",
       "      <th>country</th>\n",
       "      <th>tourist</th>\n",
       "      <th>year</th>\n",
       "      <th>month</th>\n",
       "      <th>day</th>\n",
       "      <th>Negative_Review_clean</th>\n",
       "      <th>Positive_Review_clean</th>\n",
       "    </tr>\n",
       "  </thead>\n",
       "  <tbody>\n",
       "    <tr>\n",
       "      <th>0</th>\n",
       "      <td>s Gravesandestraat 55 Oost 1092 AA Amsterdam ...</td>\n",
       "      <td>194</td>\n",
       "      <td>2017-08-03</td>\n",
       "      <td>7.7</td>\n",
       "      <td>Hotel Arena</td>\n",
       "      <td>Russia</td>\n",
       "      <td>I am so angry that i made this post available...</td>\n",
       "      <td>397</td>\n",
       "      <td>1403</td>\n",
       "      <td>Only the park outside of the hotel was beauti...</td>\n",
       "      <td>...</td>\n",
       "      <td>Not Mention</td>\n",
       "      <td>Not Mention</td>\n",
       "      <td>Not Mention</td>\n",
       "      <td>Netherlands</td>\n",
       "      <td>1</td>\n",
       "      <td>2017</td>\n",
       "      <td>8</td>\n",
       "      <td>3</td>\n",
       "      <td>I am so angry that i made this post available ...</td>\n",
       "      <td>Only the park outside of the hotel wa beautiful</td>\n",
       "    </tr>\n",
       "  </tbody>\n",
       "</table>\n",
       "<p>1 rows × 32 columns</p>\n",
       "</div>"
      ],
      "text/plain": [
       "                                       Hotel_Address  \\\n",
       "0   s Gravesandestraat 55 Oost 1092 AA Amsterdam ...   \n",
       "\n",
       "   Additional_Number_of_Scoring Review_Date  Average_Score   Hotel_Name  \\\n",
       "0                           194  2017-08-03            7.7  Hotel Arena   \n",
       "\n",
       "  Reviewer_Nationality                                    Negative_Review  \\\n",
       "0               Russia   I am so angry that i made this post available...   \n",
       "\n",
       "   Review_Total_Negative_Word_Counts  Total_Number_of_Reviews  \\\n",
       "0                                397                     1403   \n",
       "\n",
       "                                     Positive_Review  ...       submit  \\\n",
       "0   Only the park outside of the hotel was beauti...  ...  Not Mention   \n",
       "\n",
       "    With a pet  extra_room_type      country tourist  year  month day  \\\n",
       "0  Not Mention      Not Mention  Netherlands       1  2017      8   3   \n",
       "\n",
       "                               Negative_Review_clean  \\\n",
       "0  I am so angry that i made this post available ...   \n",
       "\n",
       "                             Positive_Review_clean  \n",
       "0  Only the park outside of the hotel wa beautiful  \n",
       "\n",
       "[1 rows x 32 columns]"
      ]
     },
     "execution_count": 39,
     "metadata": {},
     "output_type": "execute_result"
    }
   ],
   "source": [
    "data_recomm=pd.read_csv(\"data_hotel_reviews_clean.csv\")\n",
    "data_recomm.head(1)\n"
   ]
  },
  {
   "cell_type": "code",
   "execution_count": 40,
   "metadata": {},
   "outputs": [
    {
     "name": "stdout",
     "output_type": "stream",
     "text": [
      "<class 'pandas.core.frame.DataFrame'>\n",
      "RangeIndex: 515212 entries, 0 to 515211\n",
      "Data columns (total 32 columns):\n",
      " #   Column                                      Non-Null Count   Dtype  \n",
      "---  ------                                      --------------   -----  \n",
      " 0   Hotel_Address                               515212 non-null  object \n",
      " 1   Additional_Number_of_Scoring                515212 non-null  int64  \n",
      " 2   Review_Date                                 515212 non-null  object \n",
      " 3   Average_Score                               515212 non-null  float64\n",
      " 4   Hotel_Name                                  515212 non-null  object \n",
      " 5   Reviewer_Nationality                        515212 non-null  object \n",
      " 6   Negative_Review                             515212 non-null  object \n",
      " 7   Review_Total_Negative_Word_Counts           515212 non-null  int64  \n",
      " 8   Total_Number_of_Reviews                     515212 non-null  int64  \n",
      " 9   Positive_Review                             515212 non-null  object \n",
      " 10  Review_Total_Positive_Word_Counts           515212 non-null  int64  \n",
      " 11  Total_Number_of_Reviews_Reviewer_Has_Given  515212 non-null  int64  \n",
      " 12  Reviewer_Score                              515212 non-null  float64\n",
      " 13  Tags                                        515212 non-null  object \n",
      " 14  days_since_review                           515212 non-null  object \n",
      " 15  lat                                         515212 non-null  float64\n",
      " 16  lng                                         515212 non-null  float64\n",
      " 17  regions                                     515212 non-null  object \n",
      " 18  rooms_type                                  515212 non-null  object \n",
      " 19  guests                                      515212 non-null  object \n",
      " 20  trip_type                                   515212 non-null  object \n",
      " 21  stayed                                      515212 non-null  int64  \n",
      " 22  submit                                      515212 non-null  object \n",
      " 23  With a pet                                  515212 non-null  object \n",
      " 24  extra_room_type                             515212 non-null  object \n",
      " 25  country                                     515212 non-null  object \n",
      " 26  tourist                                     515212 non-null  int64  \n",
      " 27  year                                        515212 non-null  int64  \n",
      " 28  month                                       515212 non-null  int64  \n",
      " 29  day                                         515212 non-null  int64  \n",
      " 30  Negative_Review_clean                       515212 non-null  object \n",
      " 31  Positive_Review_clean                       515212 non-null  object \n",
      "dtypes: float64(4), int64(10), object(18)\n",
      "memory usage: 125.8+ MB\n"
     ]
    }
   ],
   "source": [
    "data_recomm.replace({np.nan:\" \"},inplace=True)\n",
    "data_recomm.info()"
   ]
  },
  {
   "cell_type": "code",
   "execution_count": 41,
   "metadata": {},
   "outputs": [],
   "source": [
    "data_recomm['guests'] = data_recomm['guests'].replace(['Family with young children','Family with older children',\n",
    "       'With a pet,Family with young children',\n",
    "       'With a pet,Family with older children'],'Family')\n",
    "data_recomm['guests'] = data_recomm['guests'].replace(['With a pet,Couple'],'Couple')\n",
    "data_recomm['guests'] = data_recomm['guests'].replace(['With a pet,Group'],'Group')\n",
    "data_recomm['guests'] = data_recomm['guests'].replace(['With a pet,Solo traveler'],'Solo traveler')"
   ]
  },
  {
   "cell_type": "code",
   "execution_count": 42,
   "metadata": {},
   "outputs": [
    {
     "data": {
      "text/plain": [
       "Couple                    252005\n",
       "Solo traveler             108431\n",
       "Family                     87295\n",
       "Group                      65338\n",
       "Travelers with friends      2143\n",
       "Name: guests, dtype: int64"
      ]
     },
     "execution_count": 42,
     "metadata": {},
     "output_type": "execute_result"
    }
   ],
   "source": [
    "data_recomm['guests'].value_counts()"
   ]
  },
  {
   "cell_type": "code",
   "execution_count": 43,
   "metadata": {},
   "outputs": [],
   "source": [
    "data_recomm.trip_type=data_recomm.trip_type.str.replace('Not Mention',\"\")"
   ]
  },
  {
   "cell_type": "code",
   "execution_count": 44,
   "metadata": {},
   "outputs": [
    {
     "data": {
      "text/plain": [
       "Leisure trip     417355\n",
       "Business trip     82853\n",
       "                  15004\n",
       "Name: trip_type, dtype: int64"
      ]
     },
     "execution_count": 44,
     "metadata": {},
     "output_type": "execute_result"
    }
   ],
   "source": [
    "data_recomm['trip_type'].value_counts()"
   ]
  },
  {
   "cell_type": "code",
   "execution_count": 45,
   "metadata": {},
   "outputs": [
    {
     "name": "stdout",
     "output_type": "stream",
     "text": [
      "<class 'pandas.core.frame.DataFrame'>\n",
      "RangeIndex: 515212 entries, 0 to 515211\n",
      "Data columns (total 32 columns):\n",
      " #   Column                                      Non-Null Count   Dtype  \n",
      "---  ------                                      --------------   -----  \n",
      " 0   Hotel_Address                               515212 non-null  object \n",
      " 1   Additional_Number_of_Scoring                515212 non-null  int64  \n",
      " 2   Review_Date                                 515212 non-null  object \n",
      " 3   Average_Score                               515212 non-null  float64\n",
      " 4   Hotel_Name                                  515212 non-null  object \n",
      " 5   Reviewer_Nationality                        515212 non-null  object \n",
      " 6   Negative_Review                             515212 non-null  object \n",
      " 7   Review_Total_Negative_Word_Counts           515212 non-null  int64  \n",
      " 8   Total_Number_of_Reviews                     515212 non-null  int64  \n",
      " 9   Positive_Review                             515212 non-null  object \n",
      " 10  Review_Total_Positive_Word_Counts           515212 non-null  int64  \n",
      " 11  Total_Number_of_Reviews_Reviewer_Has_Given  515212 non-null  int64  \n",
      " 12  Reviewer_Score                              515212 non-null  float64\n",
      " 13  Tags                                        515212 non-null  object \n",
      " 14  days_since_review                           515212 non-null  object \n",
      " 15  lat                                         515212 non-null  float64\n",
      " 16  lng                                         515212 non-null  float64\n",
      " 17  regions                                     515212 non-null  object \n",
      " 18  rooms_type                                  515212 non-null  object \n",
      " 19  guests                                      515212 non-null  object \n",
      " 20  trip_type                                   515212 non-null  object \n",
      " 21  stayed                                      515212 non-null  object \n",
      " 22  submit                                      515212 non-null  object \n",
      " 23  With a pet                                  515212 non-null  object \n",
      " 24  extra_room_type                             515212 non-null  object \n",
      " 25  country                                     515212 non-null  object \n",
      " 26  tourist                                     515212 non-null  int64  \n",
      " 27  year                                        515212 non-null  int64  \n",
      " 28  month                                       515212 non-null  int64  \n",
      " 29  day                                         515212 non-null  int64  \n",
      " 30  Negative_Review_clean                       515212 non-null  object \n",
      " 31  Positive_Review_clean                       515212 non-null  object \n",
      "dtypes: float64(4), int64(9), object(19)\n",
      "memory usage: 125.8+ MB\n"
     ]
    }
   ],
   "source": [
    "data_recomm[\"stayed\"]=data_recomm[\"stayed\"].astype('str')\n",
    "data_recomm.info()"
   ]
  },
  {
   "cell_type": "markdown",
   "metadata": {},
   "source": [
    "### rooms for family"
   ]
  },
  {
   "cell_type": "code",
   "execution_count": 46,
   "metadata": {},
   "outputs": [],
   "source": [
    "data_for_rooms_family=data_recomm[data_recomm[\"guests\"]==\"Family\"]\n",
    "rooms_family=data_for_rooms_family[\"rooms_type\"].unique()"
   ]
  },
  {
   "cell_type": "markdown",
   "metadata": {},
   "source": [
    "### rooms for couple"
   ]
  },
  {
   "cell_type": "code",
   "execution_count": 47,
   "metadata": {},
   "outputs": [],
   "source": [
    "data_for_rooms_Couple=data_recomm[data_recomm[\"guests\"]==\"Couple\"]\n",
    "rooms_Couple=data_for_rooms_Couple[\"rooms_type\"].unique()"
   ]
  },
  {
   "cell_type": "markdown",
   "metadata": {},
   "source": [
    "### data for solo traveler"
   ]
  },
  {
   "cell_type": "code",
   "execution_count": 48,
   "metadata": {},
   "outputs": [],
   "source": [
    "data_for_rooms_Solo=data_recomm[data_recomm[\"guests\"]=='Solo traveler']\n",
    "rooms_Solo=data_for_rooms_Solo[\"rooms_type\"].unique()"
   ]
  },
  {
   "cell_type": "markdown",
   "metadata": {},
   "source": [
    "### data for Group"
   ]
  },
  {
   "cell_type": "code",
   "execution_count": 49,
   "metadata": {},
   "outputs": [],
   "source": [
    "data_for_rooms_Group=data_recomm[data_recomm[\"guests\"]=='Group']\n",
    "rooms_Group=data_for_rooms_Group[\"rooms_type\"].unique()"
   ]
  },
  {
   "cell_type": "markdown",
   "metadata": {},
   "source": [
    "### data for travel with friends"
   ]
  },
  {
   "cell_type": "code",
   "execution_count": 50,
   "metadata": {},
   "outputs": [],
   "source": [
    "data_for_rooms_friends=data_recomm[data_recomm[\"guests\"]=='Travelers with friends']\n",
    "rooms_friends=data_for_rooms_friends[\"rooms_type\"].unique()"
   ]
  },
  {
   "cell_type": "markdown",
   "metadata": {},
   "source": [
    "### saving lists"
   ]
  },
  {
   "cell_type": "code",
   "execution_count": 51,
   "metadata": {},
   "outputs": [],
   "source": [
    "import numpy as np\n",
    "with open('test.npy', 'wb') as f:\n",
    "    np.save(f, rooms_family)\n",
    "    np.save(f, rooms_Couple)\n",
    "    np.save(f, rooms_Group)\n",
    "    np.save(f, rooms_Solo)\n",
    "    np.save(f, rooms_friends)\n"
   ]
  },
  {
   "cell_type": "code",
   "execution_count": 52,
   "metadata": {},
   "outputs": [],
   "source": [
    "with open('test.npy', 'rb') as f:\n",
    "    family = np.load(f,allow_pickle=True)\n",
    "    Couple =  np.load(f,allow_pickle=True)\n",
    "    Group =  np.load(f,allow_pickle=True)\n",
    "    Solo =  np.load(f,allow_pickle=True)\n",
    "    friends =  np.load(f,allow_pickle=True)"
   ]
  },
  {
   "cell_type": "markdown",
   "metadata": {},
   "source": [
    "### for first app"
   ]
  },
  {
   "cell_type": "code",
   "execution_count": 53,
   "metadata": {},
   "outputs": [
    {
     "data": {
      "text/plain": [
       "Index(['Hotel_Address', 'Additional_Number_of_Scoring', 'Review_Date',\n",
       "       'Average_Score', 'Hotel_Name', 'Reviewer_Nationality',\n",
       "       'Negative_Review', 'Review_Total_Negative_Word_Counts',\n",
       "       'Total_Number_of_Reviews', 'Positive_Review',\n",
       "       'Review_Total_Positive_Word_Counts',\n",
       "       'Total_Number_of_Reviews_Reviewer_Has_Given', 'Reviewer_Score', 'Tags',\n",
       "       'days_since_review', 'lat', 'lng', 'regions', 'rooms_type', 'guests',\n",
       "       'trip_type', 'stayed', 'submit', 'With a pet', 'extra_room_type',\n",
       "       'country', 'tourist', 'year', 'month', 'day', 'Negative_Review_clean',\n",
       "       'Positive_Review_clean'],\n",
       "      dtype='object')"
      ]
     },
     "execution_count": 53,
     "metadata": {},
     "output_type": "execute_result"
    }
   ],
   "source": [
    "df_guests=data_recomm.copy()\n",
    "df_guests.columns"
   ]
  },
  {
   "cell_type": "code",
   "execution_count": 54,
   "metadata": {},
   "outputs": [],
   "source": [
    "df_guests=df_guests.drop(['Additional_Number_of_Scoring','Review_Date','Negative_Review', 'Review_Total_Negative_Word_Counts',\n",
    "       'Total_Number_of_Reviews', 'Positive_Review',\n",
    "       'Review_Total_Positive_Word_Counts',\n",
    "       'Total_Number_of_Reviews_Reviewer_Has_Given','Negative_Review_clean', 'Positive_Review_clean','submit','tourist','With a pet','regions','Reviewer_Score','Tags','days_since_review','extra_room_type', 'year', 'month', 'day'],axis=1)"
   ]
  },
  {
   "cell_type": "code",
   "execution_count": 55,
   "metadata": {},
   "outputs": [
    {
     "data": {
      "text/plain": [
       "Index(['Hotel_Address', 'Average_Score', 'Hotel_Name', 'Reviewer_Nationality',\n",
       "       'lat', 'lng', 'rooms_type', 'guests', 'trip_type', 'stayed', 'country'],\n",
       "      dtype='object')"
      ]
     },
     "execution_count": 55,
     "metadata": {},
     "output_type": "execute_result"
    }
   ],
   "source": [
    "df_guests.columns"
   ]
  },
  {
   "cell_type": "code",
   "execution_count": 56,
   "metadata": {},
   "outputs": [],
   "source": [
    "with open('Reviewer_Nationality.npy', 'wb') as f:\n",
    "    np.save(f, df_guests.Reviewer_Nationality.unique())"
   ]
  },
  {
   "cell_type": "code",
   "execution_count": 57,
   "metadata": {},
   "outputs": [],
   "source": [
    "with open('country.npy', 'wb') as f:\n",
    "    np.save(f, df_guests.country.unique())"
   ]
  },
  {
   "cell_type": "code",
   "execution_count": 58,
   "metadata": {},
   "outputs": [],
   "source": [
    "with open('guests.npy', 'wb') as f:\n",
    "    np.save(f, df_guests.guests.unique())"
   ]
  },
  {
   "cell_type": "code",
   "execution_count": null,
   "metadata": {},
   "outputs": [],
   "source": []
  },
  {
   "cell_type": "code",
   "execution_count": 59,
   "metadata": {},
   "outputs": [],
   "source": [
    "data_with_country_nationality=df_guests.copy()"
   ]
  },
  {
   "cell_type": "code",
   "execution_count": 60,
   "metadata": {},
   "outputs": [],
   "source": [
    "data_with_country_nationality[\"all\"]=data_with_country_nationality[\"guests\"]+ ' '+ data_with_country_nationality[\"trip_type\"]+\" \"+data_with_country_nationality[\"rooms_type\"]+\" \"+data_with_country_nationality[\"stayed\"]"
   ]
  },
  {
   "cell_type": "code",
   "execution_count": 61,
   "metadata": {},
   "outputs": [],
   "source": [
    "data_with_country_nationality=data_with_country_nationality.drop(['rooms_type','guests','trip_type', 'stayed'],axis=1)"
   ]
  },
  {
   "cell_type": "code",
   "execution_count": 62,
   "metadata": {},
   "outputs": [
    {
     "data": {
      "text/plain": [
       "Index(['Hotel_Address', 'Average_Score', 'Hotel_Name', 'Reviewer_Nationality',\n",
       "       'lat', 'lng', 'country', 'all'],\n",
       "      dtype='object')"
      ]
     },
     "execution_count": 62,
     "metadata": {},
     "output_type": "execute_result"
    }
   ],
   "source": [
    "data_with_country_nationality.columns"
   ]
  },
  {
   "cell_type": "code",
   "execution_count": 63,
   "metadata": {},
   "outputs": [],
   "source": [
    "data_with_country_nationality.to_pickle(\"df_guests_all.pkl\")"
   ]
  },
  {
   "cell_type": "code",
   "execution_count": 64,
   "metadata": {},
   "outputs": [],
   "source": [
    "data_without_country_nationality=df_guests.copy()"
   ]
  },
  {
   "cell_type": "code",
   "execution_count": 65,
   "metadata": {},
   "outputs": [],
   "source": [
    "data_without_country_nationality[\"from_to_all\"]=data_without_country_nationality[\"Reviewer_Nationality\"]+ ' '+ data_without_country_nationality[\"country\"]+' '+data_without_country_nationality[\"guests\"]+ ' '+ data_without_country_nationality[\"trip_type\"]+\" \"+data_without_country_nationality[\"rooms_type\"]+\" \"+data_without_country_nationality[\"stayed\"]"
   ]
  },
  {
   "cell_type": "code",
   "execution_count": 66,
   "metadata": {},
   "outputs": [],
   "source": [
    "data_without_country_nationality=data_without_country_nationality.drop(['country','Reviewer_Nationality','rooms_type', 'guests', 'trip_type', 'stayed'],axis=1)"
   ]
  },
  {
   "cell_type": "code",
   "execution_count": 67,
   "metadata": {},
   "outputs": [
    {
     "data": {
      "text/plain": [
       "Index(['Hotel_Address', 'Average_Score', 'Hotel_Name', 'lat', 'lng',\n",
       "       'from_to_all'],\n",
       "      dtype='object')"
      ]
     },
     "execution_count": 67,
     "metadata": {},
     "output_type": "execute_result"
    }
   ],
   "source": [
    "data_without_country_nationality.columns"
   ]
  },
  {
   "cell_type": "code",
   "execution_count": 68,
   "metadata": {},
   "outputs": [],
   "source": [
    "data_without_country_nationality.to_pickle(\"df_guests_from_to_all.pkl\")"
   ]
  },
  {
   "cell_type": "markdown",
   "metadata": {},
   "source": [
    "### for second app"
   ]
  },
  {
   "cell_type": "code",
   "execution_count": 69,
   "metadata": {},
   "outputs": [],
   "source": [
    "data_filters=data_recomm.copy()"
   ]
  },
  {
   "cell_type": "code",
   "execution_count": 70,
   "metadata": {},
   "outputs": [
    {
     "data": {
      "text/plain": [
       "Index(['Hotel_Address', 'Additional_Number_of_Scoring', 'Review_Date',\n",
       "       'Average_Score', 'Hotel_Name', 'Reviewer_Nationality',\n",
       "       'Negative_Review', 'Review_Total_Negative_Word_Counts',\n",
       "       'Total_Number_of_Reviews', 'Positive_Review',\n",
       "       'Review_Total_Positive_Word_Counts',\n",
       "       'Total_Number_of_Reviews_Reviewer_Has_Given', 'Reviewer_Score', 'Tags',\n",
       "       'days_since_review', 'lat', 'lng', 'regions', 'rooms_type', 'guests',\n",
       "       'trip_type', 'stayed', 'submit', 'With a pet', 'extra_room_type',\n",
       "       'country', 'tourist', 'year', 'month', 'day', 'Negative_Review_clean',\n",
       "       'Positive_Review_clean'],\n",
       "      dtype='object')"
      ]
     },
     "execution_count": 70,
     "metadata": {},
     "output_type": "execute_result"
    }
   ],
   "source": [
    "data_filters.columns"
   ]
  },
  {
   "cell_type": "code",
   "execution_count": 71,
   "metadata": {},
   "outputs": [],
   "source": [
    "data_filters=data_filters.drop(['Hotel_Address', 'Additional_Number_of_Scoring', 'Review_Date',\n",
    "       'Average_Score', 'Reviewer_Nationality',\n",
    "        'Review_Total_Negative_Word_Counts',\n",
    "       'Total_Number_of_Reviews', \n",
    "       'Review_Total_Positive_Word_Counts',\n",
    "       'Total_Number_of_Reviews_Reviewer_Has_Given', 'Reviewer_Score', 'Tags',\n",
    "       'days_since_review', 'lat', 'lng', 'regions', 'rooms_type', 'guests',\n",
    "       'trip_type', 'stayed', 'submit', 'With a pet', 'extra_room_type',\n",
    "       'country', 'tourist', 'year', 'month', 'day', 'Negative_Review_clean',\n",
    "       'Positive_Review_clean'],axis=1)"
   ]
  },
  {
   "cell_type": "code",
   "execution_count": 72,
   "metadata": {},
   "outputs": [
    {
     "data": {
      "text/plain": [
       "Index(['Hotel_Name', 'Negative_Review', 'Positive_Review'], dtype='object')"
      ]
     },
     "execution_count": 72,
     "metadata": {},
     "output_type": "execute_result"
    }
   ],
   "source": [
    "data_filters.columns"
   ]
  },
  {
   "cell_type": "code",
   "execution_count": 73,
   "metadata": {},
   "outputs": [],
   "source": [
    "data_filters.to_pickle(\"data_filters.pkl\")"
   ]
  },
  {
   "cell_type": "code",
   "execution_count": 74,
   "metadata": {},
   "outputs": [
    {
     "ename": "",
     "evalue": "",
     "output_type": "error",
     "traceback": [
      "\u001b[1;31mThe Kernel crashed while executing code in the the current cell or a previous cell. Please review the code in the cell(s) to identify a possible cause of the failure. Click <a href='https://aka.ms/vscodeJupyterKernelCrash'>here</a> for more info. View Jupyter <a href='command:jupyter.viewOutput'>log</a> for further details."
     ]
    }
   ],
   "source": [
    "with open('HOTEL_NAME.npy', 'wb') as f:\n",
    "    np.save(f, df_guests.Hotel_Name.unique())"
   ]
  },
  {
   "cell_type": "code",
   "execution_count": null,
   "metadata": {},
   "outputs": [],
   "source": []
  }
 ],
 "metadata": {
  "interpreter": {
   "hash": "74f019a8ca17fedaf9360bd3d7095202d90318e16de7a1175cb23aa48a4e734a"
  },
  "kernelspec": {
   "display_name": "Python 3.6.6 64-bit",
   "language": "python",
   "name": "python3"
  },
  "language_info": {
   "codemirror_mode": {
    "name": "ipython",
    "version": 3
   },
   "file_extension": ".py",
   "mimetype": "text/x-python",
   "name": "python",
   "nbconvert_exporter": "python",
   "pygments_lexer": "ipython3",
   "version": "3.6.6"
  },
  "orig_nbformat": 4
 },
 "nbformat": 4,
 "nbformat_minor": 2
}
